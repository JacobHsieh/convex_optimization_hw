{
 "cells": [
  {
   "cell_type": "code",
   "execution_count": 6,
   "metadata": {},
   "outputs": [
    {
     "name": "stderr",
     "output_type": "stream",
     "text": [
      "/Users/JacobHsieh/opt/anaconda3/lib/python3.7/site-packages/cvxpy/problems/problem.py:1268: UserWarning: Solution may be inaccurate. Try another solver, adjusting the solver settings, or solve with verbose=True for more information.\n",
      "  \"Solution may be inaccurate. Try another solver, \"\n"
     ]
    },
    {
     "name": "stdout",
     "output_type": "stream",
     "text": [
      "optimal value 0.12499999988026862\n",
      "optimal var [0.50000489 0.24999755]\n"
     ]
    }
   ],
   "source": [
    "import cvxpy as cp\n",
    "from cvxpy import norm\n",
    "\n",
    "x = cp.Variable(2, pos = True)\n",
    "l = -1\n",
    "u = 1\n",
    "toleran = 0.0001\n",
    "\n",
    "\n",
    "t = 1/2*(l+u)\n",
    "x = cp.Variable(2, pos=True)\n",
    "    \n",
    "constraints = [x[0]+2*x[1] <= 1, norm(x) <= 1/(2**0.5)]\n",
    "    \n",
    "obj = cp.Maximize((x[0] * x[1]))\n",
    "    \n",
    "prob = cp.Problem(obj, constraints)\n",
    "prob.solve(qcp = True)\n",
    "\n",
    "        \n",
    "print(\"optimal value\", prob.value)\n",
    "print(\"optimal var\", x.value)"
   ]
  },
  {
   "cell_type": "code",
   "execution_count": null,
   "metadata": {},
   "outputs": [],
   "source": []
  }
 ],
 "metadata": {
  "kernelspec": {
   "display_name": "Python 3 (ipykernel)",
   "language": "python",
   "name": "python3"
  },
  "language_info": {
   "codemirror_mode": {
    "name": "ipython",
    "version": 3
   },
   "file_extension": ".py",
   "mimetype": "text/x-python",
   "name": "python",
   "nbconvert_exporter": "python",
   "pygments_lexer": "ipython3",
   "version": "3.8.8"
  }
 },
 "nbformat": 4,
 "nbformat_minor": 4
}
