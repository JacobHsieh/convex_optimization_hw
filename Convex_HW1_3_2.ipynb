{
 "cells": [
  {
   "cell_type": "code",
   "execution_count": null,
   "metadata": {},
   "outputs": [],
   "source": [
    "import cvxpy as cp\n",
    "\n",
    "#Bisection method\n",
    "l =  0.0\n",
    "u =  0.3\n",
    "toleran = 0.00000001\n",
    "c = 4\n",
    "\n",
    "while(u-l >= toleran):\n",
    "    t = 1/2*(l + u)\n",
    "    x = cp.Variable(2, pos = True)\n",
    "        \n",
    "    constraints = [x[0]+c*x[1] <= 1, cp.norm(x, 2) <= 1/(2**0.5), x[0] * x[1] >= t]\n",
    "        \n",
    "    obj = cp.Maximize(x[0] * x[1])\n",
    "        \n",
    "    prob = cp.Problem(obj, constraints)\n",
    "    prob.solve(qcp=True)\n",
    "        \n",
    "    if(prob.status == \"infeasible\"):\n",
    "        u = t\n",
    "    else:\n",
    "        l = t\n",
    "        \n",
    "print(\"c=\", c)\n",
    "print(\"optimal value=\", prob.value)\n",
    "print(\"optimal var\", x.value)\n",
    "print(x.value[0]+c*x.value[1])\n",
    "print((x.value[0]**2+x.value[1]**2)**0.5-1/(2**0.5))"
   ]
  },
  {
   "cell_type": "code",
   "execution_count": 24,
   "metadata": {},
   "outputs": [
    {
     "data": {
      "image/png": "[encoded data removed]",
      "text/plain": [
       "<Figure size 500x300 with 1 Axes>"
      ]
     },
     "metadata": {
      "needs_background": "light"
     },
     "output_type": "display_data"
    }
   ],
   "source": [
    "import numpy as np\n",
    "import matplotlib.pyplot as plt\n",
    "\n",
    "ans = np.array([0.250000207722457, 0.2500000171259619, 0.1250000142615753, 0.08333335260723379, 0.06250001277387675])\n",
    "c = np.array ([0.5, 1, 2, 3, 4])\n",
    "\n",
    "plt.figure(figsize = (5, 3), dpi = 100)\n",
    "plt.xlabel('parameter c', fontsize = 12)\n",
    "plt.ylabel('optimal value', fontsize = 12)\n",
    "plt.xticks(fontsize = 10)\n",
    "plt.yticks(fontsize = 10)\n",
    "\n",
    "plt.plot(c, ans, color = 'red', linewidth = 2)\n",
    "plt.show()"
   ]
  },
  {
   "cell_type": "code",
   "execution_count": null,
   "metadata": {},
   "outputs": [],
   "source": []
  }
 ],
 "metadata": {
  "kernelspec": {
   "display_name": "Python 3",
   "language": "python",
   "name": "python3"
  },
  "language_info": {
   "codemirror_mode": {
    "name": "ipython",
    "version": 3
   },
   "file_extension": ".py",
   "mimetype": "text/x-python",
   "name": "python",
   "nbconvert_exporter": "python",
   "pygments_lexer": "ipython3",
   "version": "3.7.6"
  }
 },
 "nbformat": 4,
 "nbformat_minor": 4
}
