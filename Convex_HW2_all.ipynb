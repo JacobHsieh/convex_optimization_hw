{
 "cells": [
  {
   "cell_type": "code",
   "execution_count": 27,
   "metadata": {},
   "outputs": [],
   "source": [
    "import numpy as np\n",
    "import math\n",
    "\n",
    "#(c)\n",
    "def my_objective(x, A, b, c):\n",
    "    obj = np.dot(c, x)-math.log(-np.dot(A[0], x)+b[0])-math.log(-np.dot(A[1], x)+b[1])-math.log(-np.dot(A[2], x)+b[2])\n",
    "    \n",
    "    gradient = np.array([c[0]-A[0][0]/(np.dot(A[0], x)-b[0])-A[1][0]/(np.dot(A[1], x)-b[1])-A[2][0]/(np.dot(A[2], x)-b[2]),\n",
    "                        c[1]-A[0][1]/(np.dot(A[0], x)-b[0])-A[1][1]/(np.dot(A[1], x)-b[1])-A[2][1]/(np.dot(A[2], x)-b[2])])\n",
    "    \n",
    "    hessian = np.array([[A[0][0]*A[0][0]/pow(np.dot(A[0],x)-b[0],2)+A[1][0]*A[1][0]/pow(np.dot(A[1],x)-b[1],2)+A[2][0]*A[2][0]/pow(np.dot(A[2],x)-b[2],2),\n",
    "                         A[0][0]*A[0][1]/pow(np.dot(A[0],x)-b[0],2)+A[1][0]*A[1][1]/pow(np.dot(A[1],x)-b[1],2)+A[2][0]*A[2][1]/pow(np.dot(A[2],x)-b[2],2)],\n",
    "                         [A[0][1]*A[0][0]/pow(np.dot(A[0],x)-b[0],2)+A[1][1]*A[1][0]/pow(np.dot(A[1],x)-b[1],2)+A[2][1]*A[2][0]/pow(np.dot(A[2],x)-b[2],2),\n",
    "                         A[0][1]*A[0][1]/pow(np.dot(A[0],x)-b[0],2)+A[1][1]*A[1][1]/pow(np.dot(A[1],x)-b[1],2)+A[2][1]*A[2][1]/pow(np.dot(A[2],x)-b[2],2)]])\n",
    "    \n",
    "    return obj, gradient, hessian"
   ]
  },
  {
   "cell_type": "code",
   "execution_count": 35,
   "metadata": {},
   "outputs": [
    {
     "name": "stdout",
     "output_type": "stream",
     "text": [
      "Setting 1:\n",
      "Iteration = 1 ,f = 6.907755278982137\n",
      "Iteration = 1 ,decrement = 0.6368324391514267\n",
      "Iteration = 1 ,t = 1\n",
      "----------------------------------------\n",
      "Iteration = 2 ,f = 6.701470483515969\n",
      "Iteration = 2 ,decrement = 0.030686579364916106\n",
      "Iteration = 2 ,t = 1\n",
      "----------------------------------------\n",
      "Iteration = 3 ,f = 6.701002571803488\n",
      "Iteration = 3 ,decrement = 0.0003887110433101522\n",
      "Iteration = 3 ,t = 1\n",
      "----------------------------------------\n",
      "stop at iteration = 4\n",
      "Iteration = 4 ,f = 6.701002496254256\n",
      "Iteration = 4 ,decrement = 6.562050010234445e-08\n",
      "----------------------------------------\n",
      "decrement_list =  [0.6368324391514267, 0.030686579364916106, 0.0003887110433101522, 6.562050010234445e-08]\n"
     ]
    },
    {
     "data": {
      "image/png": "[encoded data removed]",
      "text/plain": [
       "<Figure size 500x300 with 1 Axes>"
      ]
     },
     "metadata": {
      "needs_background": "light"
     },
     "output_type": "display_data"
    },
    {
     "name": "stdout",
     "output_type": "stream",
     "text": [
      "Newton's method: optimal value 6.701002496254256\n",
      "Newton's method: optimal var [-0.03631456 -0.00206039]\n",
      "---------Compare to CVX---------\n",
      "status: optimal\n",
      "CVX optimal value 6.7010024962542545\n",
      "CVX optimal var [-0.03631456 -0.00206038]\n",
      "\n",
      "Setting 2:\n",
      "Iteration = 1 ,f = 3.7297014486341915\n",
      "Iteration = 1 ,decrement = 1.199587095747152\n",
      "Iteration = 1 ,t = 1\n",
      "----------------------------------------\n",
      "Iteration = 2 ,f = 2.7984780333725174\n",
      "Iteration = 2 ,decrement = 0.711352504574145\n",
      "Iteration = 2 ,t = 1\n",
      "----------------------------------------\n",
      "Iteration = 3 ,f = 2.532732525397814\n",
      "Iteration = 3 ,decrement = 0.19388436279863158\n",
      "Iteration = 3 ,t = 1\n",
      "----------------------------------------\n",
      "Iteration = 4 ,f = 2.5141806919755845\n",
      "Iteration = 4 ,decrement = 0.01321841767055216\n",
      "Iteration = 4 ,t = 1\n",
      "----------------------------------------\n",
      "Iteration = 5 ,f = 2.5140936827970943\n",
      "Iteration = 5 ,decrement = 9.494026722299103e-05\n",
      "Iteration = 5 ,t = 1\n",
      "----------------------------------------\n",
      "stop at iteration = 6\n",
      "Iteration = 6 ,f = 2.514093678290154\n",
      "Iteration = 6 ,decrement = 4.65940802675436e-09\n",
      "----------------------------------------\n",
      "decrement_list =  [1.199587095747152, 0.711352504574145, 0.19388436279863158, 0.01321841767055216, 9.494026722299103e-05, 4.65940802675436e-09]\n"
     ]
    },
    {
     "data": {
      "image/png": "[encoded data removed]",
      "text/plain": [
       "<Figure size 500x300 with 1 Axes>"
      ]
     },
     "metadata": {
      "needs_background": "light"
     },
     "output_type": "display_data"
    },
    {
     "name": "stdout",
     "output_type": "stream",
     "text": [
      "Newton's method: optimal value 2.514093678290154\n",
      "Newton's method: optimal var [-0.23772562 -0.07652448]\n",
      "---------Compare to CVX---------\n",
      "status: optimal\n",
      "CVX optimal value 2.514093678290156\n",
      "CVX optimal var [-0.23772563 -0.07652448]\n"
     ]
    }
   ],
   "source": [
    "import numpy as np\n",
    "import math\n",
    "import matplotlib.pyplot as plt\n",
    "import cvxpy as cp\n",
    "\n",
    "#(d)~(j)\n",
    "def newton_method(x, A, b, c):\n",
    "    t = 1\n",
    "    alpha = 0.1\n",
    "    beta = 0.7\n",
    "    iter_count = 0\n",
    "    decrement_list = []\n",
    "    \n",
    "    while(True):\n",
    "        f, g, H = my_objective(x, A, b, c)\n",
    "        newton_step = -np.dot(np.linalg.inv(H), g)\n",
    "        newton_decrement = np.sqrt(-np.dot(g, newton_step))\n",
    "        \n",
    "        #stopping criteria\n",
    "        if((np.square(newton_decrement)/2) <= 1e-10):\n",
    "            print(\"stop at iteration =\", iter_count+1)\n",
    "            print(\"Iteration =\", iter_count+1, \",f =\", f)\n",
    "            print(\"Iteration =\", iter_count+1, \",decrement =\", newton_decrement)\n",
    "            decrement_list.append(newton_decrement)\n",
    "            print(\"----------------------------------------\")\n",
    "            print(\"decrement_list = \", decrement_list)\n",
    "            index_list = []\n",
    "            for i in range(0, iter_count+1):\n",
    "                index_list.append(i)\n",
    "    \n",
    "            plt.figure(figsize = (5, 3), dpi = 100)\n",
    "            plt.xlabel('k', fontsize = 12)\n",
    "            plt.ylabel('(decrement^2)/2', fontsize = 12)\n",
    "            plt.xticks(np.arange(0, iter_count+2, step=1), fontsize = 10)\n",
    "            plt.yticks(fontsize = 10)\n",
    "\n",
    "            plt.plot(index_list, np.square(decrement_list)/2, color = 'red', linewidth = 2)\n",
    "            plt.show()\n",
    "    \n",
    "            return x\n",
    "        \n",
    "        print(\"Iteration =\", iter_count+1, \",f =\", f)\n",
    "        print(\"Iteration =\", iter_count+1, \",decrement =\", newton_decrement)\n",
    "        decrement_list.append(newton_decrement)\n",
    "        \n",
    "        #backtracking line search to choose t\n",
    "        x_next = x + t * newton_step\n",
    "        \n",
    "        #check dom f\n",
    "        while((-np.dot(A[0], x_next)+b[0]<0) or (-np.dot(A[1], x_next)+b[1]<0) or (-np.dot(A[2], x_next)+b[2]<0)):\n",
    "            t = beta * t\n",
    "            x_next = x + t * newton_step\n",
    "            print(\"Out of dom f!\")\n",
    "            \n",
    "        print(\"Iteration =\", iter_count+1, \",t =\", t)\n",
    "        print(\"----------------------------------------\")\n",
    "        \n",
    "        f_next = np.dot(c, x_next)-math.log(-np.dot(A[0], x_next)+b[0])-math.log(-np.dot(A[1], x_next)+b[1])-math.log(-np.dot(A[2], x_next)+b[2])\n",
    "        while(f_next > (f - alpha * t * np.square(newton_decrement))):\n",
    "            t = beta * t\n",
    "            x_next = x + t * newton_step\n",
    "            f_next = np.dot(c, x_next)-math.log(-np.dot(A[0], x_next)+b[0])-math.log(-np.dot(A[1], x_next)+b[1])-math.log(-np.dot(A[2], x_next)+b[2])\n",
    "        \n",
    "        x = x + t * newton_step\n",
    "        iter_count =  iter_count + 1\n",
    "\n",
    "def cvx_tool(A, c, b):\n",
    "    # Create two scalar optimization variables.\n",
    "    x = cp.Variable(2)\n",
    "    c.reshape(2, 1)\n",
    "\n",
    "    # Form objective.\n",
    "    obj = cp.Minimize(c.transpose()@x - cp.sum(cp.log((-A@x)+b)))\n",
    "\n",
    "    # Form and solve problem.\n",
    "    prob = cp.Problem(obj)\n",
    "    prob.solve()  # Returns the optimal value.\n",
    "    print(\"status:\", prob.status)\n",
    "    print(\"CVX optimal value\", prob.value)\n",
    "    print(\"CVX optimal var\", x.value)        \n",
    "    \n",
    "def main():\n",
    "    print(\"Setting 1:\")\n",
    "    A = np.array([[1,3], [1,-3], [-1,0]])\n",
    "    c = np.array([1, 2])\n",
    "    b = np.array([0.1, 0.1, 0.1])\n",
    "    x_0 = np.array([0, 0])\n",
    "    \n",
    "    x_sol = newton_method(x_0, A, b, c)\n",
    "    f_sol = np.dot(c, x_sol)-math.log(-np.dot(A[0], x_sol)+b[0])-math.log(-np.dot(A[1], x_sol)+b[1])-math.log(-np.dot(A[2], x_sol)+b[2])\n",
    "    print(\"Newton's method: optimal value\", f_sol)\n",
    "    print(\"Newton's method: optimal var\", x_sol)\n",
    "    print(\"---------Compare to CVX---------\")\n",
    "    \n",
    "    cvx_tool(A, c, b)\n",
    "    \n",
    "    print(\"\\nSetting 2:\")\n",
    "    A = np.array([[1,3], [2,-3], [-1,0]])\n",
    "    c = np.array([1, 1])\n",
    "    b = np.array([0.2, 0.3, 0.4])\n",
    "    x_0 = np.array([0, 0])\n",
    "    \n",
    "    x_sol = newton_method(x_0, A, b, c)\n",
    "    f_sol = np.dot(c, x_sol)-math.log(-np.dot(A[0], x_sol)+b[0])-math.log(-np.dot(A[1], x_sol)+b[1])-math.log(-np.dot(A[2], x_sol)+b[2])\n",
    "    print(\"Newton's method: optimal value\", f_sol)\n",
    "    print(\"Newton's method: optimal var\", x_sol)\n",
    "    print(\"---------Compare to CVX---------\")\n",
    "    \n",
    "    cvx_tool(A, c, b)\n",
    "    \n",
    "if __name__ == '__main__':\n",
    "    main()"
   ]
  },
  {
   "cell_type": "code",
   "execution_count": 9,
   "metadata": {},
   "outputs": [
    {
     "name": "stdout",
     "output_type": "stream",
     "text": [
      "status: optimal\n",
      "optimal value 6.7010024962542545\n",
      "optimal var [-0.03631456 -0.00206038]\n"
     ]
    }
   ],
   "source": [
    "import cvxpy as cp\n",
    "import cvxpy\n",
    "\n",
    "# Create two scalar optimization variables.\n",
    "x = cp.Variable(2)\n",
    "\n",
    "A = np.array([[1,3], [1,-3], [-1,0]])\n",
    "c = np.array([1, 2]).reshape(2, 1)\n",
    "b = np.array([0.1, 0.1, 0.1])\n",
    "\n",
    "# Form objective.\n",
    "obj = cp.Minimize(c.transpose()@x - cp.sum(cp.log((-A@x)+b)))\n",
    "\n",
    "# Form and solve problem.\n",
    "prob = cp.Problem(obj)\n",
    "prob.solve()  # Returns the optimal value.\n",
    "print(\"status:\", prob.status)\n",
    "print(\"optimal value\", prob.value)\n",
    "print(\"optimal var\", x.value)"
   ]
  },
  {
   "cell_type": "code",
   "execution_count": null,
   "metadata": {},
   "outputs": [],
   "source": []
  },
  {
   "cell_type": "code",
   "execution_count": 14,
   "metadata": {},
   "outputs": [
    {
     "data": {
      "text/plain": [
       "array([ 2. , 12.5])"
      ]
     },
     "execution_count": 14,
     "metadata": {},
     "output_type": "execute_result"
    }
   ],
   "source": [
    "a = [2, 5]\n",
    "np.square(a)/2"
   ]
  },
  {
   "cell_type": "code",
   "execution_count": null,
   "metadata": {},
   "outputs": [],
   "source": []
  }
 ],
 "metadata": {
  "kernelspec": {
   "display_name": "Python 3",
   "language": "python",
   "name": "python3"
  },
  "language_info": {
   "codemirror_mode": {
    "name": "ipython",
    "version": 3
   },
   "file_extension": ".py",
   "mimetype": "text/x-python",
   "name": "python",
   "nbconvert_exporter": "python",
   "pygments_lexer": "ipython3",
   "version": "3.7.6"
  }
 },
 "nbformat": 4,
 "nbformat_minor": 4
}
