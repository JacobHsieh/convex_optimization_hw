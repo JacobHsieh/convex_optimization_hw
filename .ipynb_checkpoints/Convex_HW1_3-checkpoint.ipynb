{
 "cells": [
  {
   "cell_type": "code",
   "execution_count": 9,
   "metadata": {},
   "outputs": [
    {
     "name": "stdout",
     "output_type": "stream",
     "text": [
      "===============================================================================\n",
      "                                     CVXPY                                     \n",
      "                                    v1.1.12                                    \n",
      "===============================================================================\n",
      "(CVXPY) Apr 20 08:59:08 PM: Your problem has 2 variables, 2 constraints, and 0 parameters.\n",
      "(CVXPY) Apr 20 08:59:08 PM: It is compliant with the following grammars: DGP, DQCP\n",
      "(CVXPY) Apr 20 08:59:08 PM: (If you need to solve this problem multiple times, but with different data, consider using parameters.)\n",
      "(CVXPY) Apr 20 08:59:08 PM: CVXPY will first compile your problem; then, it will invoke a numerical solver to obtain a solution.\n",
      "(CVXPY) Apr 20 08:59:08 PM: Reducing DQCP problem to a one-parameter family of DCP problems, for bisection.\n",
      "\n",
      "********************************************************************************\n",
      "Preparing to bisect problem\n",
      "\n",
      "minimize 0.0\n",
      "subject to var15697 + 2.0 @ var15698 <= 1.0\n",
      "           var15719 + var15731 <= 0.5\n",
      "           SOC(reshape(var15719 + 1.0, (1,), F), Vstack(reshape(var15719 + -1.0, (1, 1), F), reshape(2.0 @ var15697, (1, 1), F)))\n",
      "           SOC(reshape(var15731 + 1.0, (1,), F), Vstack(reshape(var15731 + -1.0, (1, 1), F), reshape(2.0 @ var15698, (1, 1), F)))\n",
      "           -param15747 @ power(var15698, -1.0) <= var15697\n",
      "\n",
      "Finding interval for bisection ...\n",
      "initial lower bound: -1.000000\n",
      "initial upper bound: 0.000000\n",
      "\n",
      "(iteration 0) lower bound: -1.000000\n",
      "(iteration 0) upper bound: 0.000000\n",
      "(iteration 0) query point: -0.500000 \n",
      "(iteration 0) query was infeasible.\n",
      "\n",
      "(iteration 5) lower bound: -0.156250\n",
      "(iteration 5) upper bound: -0.125000\n",
      "(iteration 5) query point: -0.140625 \n",
      "(iteration 5) query was infeasible.\n",
      "\n",
      "(iteration 10) lower bound: -0.125977\n",
      "(iteration 10) upper bound: -0.125000\n",
      "(iteration 10) query point: -0.125488 \n",
      "(iteration 10) query was infeasible.\n",
      "\n",
      "(iteration 15) lower bound: -0.125031\n",
      "(iteration 15) upper bound: -0.125000\n",
      "(iteration 15) query point: -0.125015 \n",
      "(iteration 15) query was infeasible.\n",
      "\n",
      "Bisection completed, with lower bound -0.125001 and upper bound -0.1250000\n",
      "********************************************************************************\n",
      "\n",
      "status: optimal\n",
      "optimal value 0.12500000000833775\n",
      "optimal var 0.49999755881244756 0.2500012206164112\n"
     ]
    }
   ],
   "source": [
    "import cvxpy as cp\n",
    "from cvxpy import norm\n",
    "\n",
    "# Create two scalar optimization variables.\n",
    "x = cp.Variable(pos=True)\n",
    "y = cp.Variable(pos=True)\n",
    "    \n",
    "# Create constraints.\n",
    "constraints = [x+2*y <= 1, pow(x, 2)+pow(y, 2) <= 1/2]\n",
    "    \n",
    "# Form objective.\n",
    "#obj = cp.Minimize(-cp.multiply(x, y))\n",
    "obj = cp.Maximize(cp.multiply(x, y))\n",
    "    \n",
    "# Form and solve problem.\n",
    "prob = cp.Problem(obj, constraints)\n",
    "prob.solve(qcp = True, verbose = True)  # Returns the optimal value.\n",
    "print(\"status:\", prob.status)\n",
    "print(\"optimal value\", prob.value)\n",
    "print(\"optimal var\", x.value, y.value)\n",
    "    "
   ]
  },
  {
   "cell_type": "code",
   "execution_count": 7,
   "metadata": {},
   "outputs": [
    {
     "data": {
      "text/plain": [
       "0.12500000000833775"
      ]
     },
     "execution_count": 7,
     "metadata": {},
     "output_type": "execute_result"
    }
   ],
   "source": [
    "0.49999755881244756*0.2500012206164112"
   ]
  },
  {
   "cell_type": "code",
   "execution_count": null,
   "metadata": {},
   "outputs": [],
   "source": []
  }
 ],
 "metadata": {
  "kernelspec": {
   "display_name": "Python 3 (ipykernel)",
   "language": "python",
   "name": "python3"
  },
  "language_info": {
   "codemirror_mode": {
    "name": "ipython",
    "version": 3
   },
   "file_extension": ".py",
   "mimetype": "text/x-python",
   "name": "python",
   "nbconvert_exporter": "python",
   "pygments_lexer": "ipython3",
   "version": "3.8.8"
  }
 },
 "nbformat": 4,
 "nbformat_minor": 4
}
