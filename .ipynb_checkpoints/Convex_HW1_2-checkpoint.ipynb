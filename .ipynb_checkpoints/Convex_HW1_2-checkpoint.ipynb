{
 "cells": [
  {
   "cell_type": "code",
   "execution_count": 2,
   "metadata": {},
   "outputs": [
    {
     "name": "stdout",
     "output_type": "stream",
     "text": [
      "status: optimal\n",
      "optimal value 79.9188500473766\n",
      "optimal var [7.11494804 5.79055313 4.93701801 4.35359597 3.92913067]\n"
     ]
    }
   ],
   "source": [
    "import cvxpy as cp\n",
    "import numpy as np\n",
    "from cvxpy import norm\n",
    "\n",
    "# Create two scalar optimization variables.\n",
    "x = cp.Variable(5)\n",
    "y = np.array([1, 2, 3, 4, 5]).reshape(5, 1)\n",
    "\n",
    "# Create constraints.\n",
    "constraints = [x >= 0, pow(x[0],-1)+pow(x[1],-1)+pow(x[2],-1)+pow(x[3],-1)+pow(x[4],-1) <= 1]\n",
    "\n",
    "# Form objective.\n",
    "obj = cp.Minimize(norm(x, 3) + y.transpose() @ x)\n",
    "\n",
    "# Form and solve problem.\n",
    "prob = cp.Problem(obj, constraints)\n",
    "prob.solve()  # Returns the optimal value.\n",
    "print(\"status:\", prob.status)\n",
    "print(\"optimal value\", prob.value)\n",
    "print(\"optimal var\", x.value)"
   ]
  },
  {
   "cell_type": "code",
   "execution_count": 3,
   "metadata": {},
   "outputs": [
    {
     "data": {
      "image/png": "[encoded data removed]",
      "text/plain": [
       "<Figure size 500x300 with 1 Axes>"
      ]
     },
     "metadata": {
      "needs_background": "light"
     },
     "output_type": "display_data"
    }
   ],
   "source": [
    "import cvxpy as cp\n",
    "import numpy as np\n",
    "from cvxpy import norm\n",
    "import matplotlib.pyplot as plt\n",
    "\n",
    "# Create two scalar optimization variables.\n",
    "x = cp.Variable(5)\n",
    "y = np.array([1, 2, 3, 4, 5]).reshape(5, 1)\n",
    "\n",
    "# Create two constraints.\n",
    "constraints = [x >= 0, pow(x[0],-1)+pow(x[1],-1)+pow(x[2],-1)+pow(x[3],-1)+pow(x[4],-1) <= 1]\n",
    "\n",
    "ans = np.zeros((100))\n",
    "p = np.arange(1, 101)\n",
    "\n",
    "# Form objective.\n",
    "for i in range(1, 101):\n",
    "    obj = cp.Minimize(norm(x, i) + y.transpose() @ x)\n",
    "    prob = cp.Problem(obj, constraints)\n",
    "    prob.solve()  # Returns the optimal value.\n",
    "    ans[i-1] = prob.value\n",
    "\n",
    "plt.figure(figsize = (5, 3), dpi = 100)\n",
    "plt.xlabel('parameter p', fontsize = 12)\n",
    "plt.ylabel('optimal value', fontsize = 12)\n",
    "plt.xticks(np.arange(0, 101, step=10), fontsize = 10)\n",
    "plt.yticks(fontsize = 10)\n",
    "#plt.annotate('min_acc', xy=(min_a_u1, val_u1(min_a_u1)), xytext=(min_a_u1-0.5, val_u1(min_a_u1)), arrowprops=dict(facecolor='k', headwidth=5, width=2))\n",
    "\n",
    "plt.plot(p, ans, color = 'red', linewidth = 2)\n",
    "plt.show()"
   ]
  },
  {
   "cell_type": "code",
   "execution_count": 4,
   "metadata": {},
   "outputs": [
    {
     "data": {
      "text/plain": [
       "79.9188500473766"
      ]
     },
     "execution_count": 4,
     "metadata": {},
     "output_type": "execute_result"
    }
   ],
   "source": [
    "ans[2]"
   ]
  },
  {
   "cell_type": "code",
   "execution_count": null,
   "metadata": {},
   "outputs": [],
   "source": []
  }
 ],
 "metadata": {
  "kernelspec": {
   "display_name": "Python 3 (ipykernel)",
   "language": "python",
   "name": "python3"
  },
  "language_info": {
   "codemirror_mode": {
    "name": "ipython",
    "version": 3
   },
   "file_extension": ".py",
   "mimetype": "text/x-python",
   "name": "python",
   "nbconvert_exporter": "python",
   "pygments_lexer": "ipython3",
   "version": "3.8.8"
  }
 },
 "nbformat": 4,
 "nbformat_minor": 4
}
