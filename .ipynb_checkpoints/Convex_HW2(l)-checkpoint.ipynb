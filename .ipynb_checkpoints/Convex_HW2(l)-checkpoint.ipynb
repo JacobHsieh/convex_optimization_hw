{
 "cells": [
  {
   "cell_type": "code",
   "execution_count": 1,
   "metadata": {},
   "outputs": [],
   "source": [
    "import numpy as np\n",
    "import math\n",
    "\n",
    "#(c)\n",
    "def my_objective(x, A, b, c):\n",
    "    obj = np.dot(c, x)-math.log(-np.dot(A[0], x)+b[0])-math.log(-np.dot(A[1], x)+b[1])-math.log(-np.dot(A[2], x)+b[2])\n",
    "    \n",
    "    gradient = np.array([c[0]-A[0][0]/(np.dot(A[0], x)-b[0])-A[1][0]/(np.dot(A[1], x)-b[1])-A[2][0]/(np.dot(A[2], x)-b[2]),\n",
    "                        c[1]-A[0][1]/(np.dot(A[0], x)-b[0])-A[1][1]/(np.dot(A[1], x)-b[1])-A[2][1]/(np.dot(A[2], x)-b[2])])\n",
    "    \n",
    "    hessian = np.array([[A[0][0]*A[0][0]/pow(np.dot(A[0],x)-b[0],2)+A[1][0]*A[1][0]/pow(np.dot(A[1],x)-b[1],2)+A[2][0]*A[2][0]/pow(np.dot(A[2],x)-b[2],2),\n",
    "                         A[0][0]*A[0][1]/pow(np.dot(A[0],x)-b[0],2)+A[1][0]*A[1][1]/pow(np.dot(A[1],x)-b[1],2)+A[2][0]*A[2][1]/pow(np.dot(A[2],x)-b[2],2)],\n",
    "                         [A[0][1]*A[0][0]/pow(np.dot(A[0],x)-b[0],2)+A[1][1]*A[1][0]/pow(np.dot(A[1],x)-b[1],2)+A[2][1]*A[2][0]/pow(np.dot(A[2],x)-b[2],2),\n",
    "                         A[0][1]*A[0][1]/pow(np.dot(A[0],x)-b[0],2)+A[1][1]*A[1][1]/pow(np.dot(A[1],x)-b[1],2)+A[2][1]*A[2][1]/pow(np.dot(A[2],x)-b[2],2)]])\n",
    "    \n",
    "    return obj, gradient, hessian"
   ]
  },
  {
   "cell_type": "code",
   "execution_count": 63,
   "metadata": {},
   "outputs": [
    {
     "ename": "TypeError",
     "evalue": "only size-1 arrays can be converted to Python scalars",
     "output_type": "error",
     "traceback": [
      "\u001b[0;31m---------------------------------------------------------------------------\u001b[0m",
      "\u001b[0;31mTypeError\u001b[0m                                 Traceback (most recent call last)",
      "\u001b[0;32m<ipython-input-63-b198203995ed>\u001b[0m in \u001b[0;36m<module>\u001b[0;34m\u001b[0m\n\u001b[1;32m      1\u001b[0m \u001b[0;31m#(d)\u001b[0m\u001b[0;34m\u001b[0m\u001b[0;34m\u001b[0m\u001b[0;34m\u001b[0m\u001b[0m\n\u001b[1;32m      2\u001b[0m \u001b[0mx_0\u001b[0m \u001b[0;34m=\u001b[0m \u001b[0mnp\u001b[0m\u001b[0;34m.\u001b[0m\u001b[0marray\u001b[0m\u001b[0;34m(\u001b[0m\u001b[0;34m[\u001b[0m\u001b[0;36m0\u001b[0m\u001b[0;34m,\u001b[0m \u001b[0;36m0\u001b[0m\u001b[0;34m]\u001b[0m\u001b[0;34m)\u001b[0m\u001b[0;34m\u001b[0m\u001b[0;34m\u001b[0m\u001b[0m\n\u001b[0;32m----> 3\u001b[0;31m \u001b[0mf\u001b[0m\u001b[0;34m,\u001b[0m \u001b[0mg\u001b[0m\u001b[0;34m,\u001b[0m \u001b[0mH\u001b[0m \u001b[0;34m=\u001b[0m \u001b[0mmy_objective\u001b[0m\u001b[0;34m(\u001b[0m\u001b[0mx\u001b[0m\u001b[0;34m,\u001b[0m \u001b[0mA\u001b[0m\u001b[0;34m,\u001b[0m \u001b[0mb\u001b[0m\u001b[0;34m,\u001b[0m \u001b[0mc\u001b[0m\u001b[0;34m)\u001b[0m\u001b[0;34m\u001b[0m\u001b[0;34m\u001b[0m\u001b[0m\n\u001b[0m\u001b[1;32m      4\u001b[0m \u001b[0;34m\u001b[0m\u001b[0m\n\u001b[1;32m      5\u001b[0m \u001b[0mnewton_step\u001b[0m \u001b[0;34m=\u001b[0m \u001b[0;34m-\u001b[0m\u001b[0mnp\u001b[0m\u001b[0;34m.\u001b[0m\u001b[0mdot\u001b[0m\u001b[0;34m(\u001b[0m\u001b[0mnp\u001b[0m\u001b[0;34m.\u001b[0m\u001b[0mlinalg\u001b[0m\u001b[0;34m.\u001b[0m\u001b[0minv\u001b[0m\u001b[0;34m(\u001b[0m\u001b[0mH\u001b[0m\u001b[0;34m)\u001b[0m\u001b[0;34m,\u001b[0m \u001b[0mg\u001b[0m\u001b[0;34m)\u001b[0m\u001b[0;34m\u001b[0m\u001b[0;34m\u001b[0m\u001b[0m\n",
      "\u001b[0;32m<ipython-input-62-1a3c3552280f>\u001b[0m in \u001b[0;36mmy_objective\u001b[0;34m(x, A, b, c)\u001b[0m\n\u001b[1;32m      4\u001b[0m \u001b[0;31m#(c)\u001b[0m\u001b[0;34m\u001b[0m\u001b[0;34m\u001b[0m\u001b[0;34m\u001b[0m\u001b[0m\n\u001b[1;32m      5\u001b[0m \u001b[0;32mdef\u001b[0m \u001b[0mmy_objective\u001b[0m\u001b[0;34m(\u001b[0m\u001b[0mx\u001b[0m\u001b[0;34m,\u001b[0m \u001b[0mA\u001b[0m\u001b[0;34m,\u001b[0m \u001b[0mb\u001b[0m\u001b[0;34m,\u001b[0m \u001b[0mc\u001b[0m\u001b[0;34m)\u001b[0m\u001b[0;34m:\u001b[0m\u001b[0;34m\u001b[0m\u001b[0;34m\u001b[0m\u001b[0m\n\u001b[0;32m----> 6\u001b[0;31m     \u001b[0mobj\u001b[0m \u001b[0;34m=\u001b[0m \u001b[0mnp\u001b[0m\u001b[0;34m.\u001b[0m\u001b[0mdot\u001b[0m\u001b[0;34m(\u001b[0m\u001b[0mc\u001b[0m\u001b[0;34m,\u001b[0m \u001b[0mx\u001b[0m\u001b[0;34m)\u001b[0m\u001b[0;34m-\u001b[0m\u001b[0mmath\u001b[0m\u001b[0;34m.\u001b[0m\u001b[0mlog\u001b[0m\u001b[0;34m(\u001b[0m\u001b[0;34m-\u001b[0m\u001b[0mnp\u001b[0m\u001b[0;34m.\u001b[0m\u001b[0mdot\u001b[0m\u001b[0;34m(\u001b[0m\u001b[0mA\u001b[0m\u001b[0;34m[\u001b[0m\u001b[0;36m0\u001b[0m\u001b[0;34m]\u001b[0m\u001b[0;34m,\u001b[0m \u001b[0mx\u001b[0m\u001b[0;34m)\u001b[0m\u001b[0;34m+\u001b[0m\u001b[0mb\u001b[0m\u001b[0;34m[\u001b[0m\u001b[0;36m0\u001b[0m\u001b[0;34m]\u001b[0m\u001b[0;34m)\u001b[0m\u001b[0;34m-\u001b[0m\u001b[0mmath\u001b[0m\u001b[0;34m.\u001b[0m\u001b[0mlog\u001b[0m\u001b[0;34m(\u001b[0m\u001b[0;34m-\u001b[0m\u001b[0mnp\u001b[0m\u001b[0;34m.\u001b[0m\u001b[0mdot\u001b[0m\u001b[0;34m(\u001b[0m\u001b[0mA\u001b[0m\u001b[0;34m[\u001b[0m\u001b[0;36m1\u001b[0m\u001b[0;34m]\u001b[0m\u001b[0;34m,\u001b[0m \u001b[0mx\u001b[0m\u001b[0;34m)\u001b[0m\u001b[0;34m+\u001b[0m\u001b[0mb\u001b[0m\u001b[0;34m[\u001b[0m\u001b[0;36m1\u001b[0m\u001b[0;34m]\u001b[0m\u001b[0;34m)\u001b[0m\u001b[0;34m-\u001b[0m\u001b[0mmath\u001b[0m\u001b[0;34m.\u001b[0m\u001b[0mlog\u001b[0m\u001b[0;34m(\u001b[0m\u001b[0;34m-\u001b[0m\u001b[0mnp\u001b[0m\u001b[0;34m.\u001b[0m\u001b[0mdot\u001b[0m\u001b[0;34m(\u001b[0m\u001b[0mA\u001b[0m\u001b[0;34m[\u001b[0m\u001b[0;36m2\u001b[0m\u001b[0;34m]\u001b[0m\u001b[0;34m,\u001b[0m \u001b[0mx\u001b[0m\u001b[0;34m)\u001b[0m\u001b[0;34m+\u001b[0m\u001b[0mb\u001b[0m\u001b[0;34m[\u001b[0m\u001b[0;36m2\u001b[0m\u001b[0;34m]\u001b[0m\u001b[0;34m)\u001b[0m\u001b[0;34m\u001b[0m\u001b[0;34m\u001b[0m\u001b[0m\n\u001b[0m\u001b[1;32m      7\u001b[0m \u001b[0;34m\u001b[0m\u001b[0m\n\u001b[1;32m      8\u001b[0m     gradient = np.array([c[0]-A[0][0]/(np.dot(A[0], x)-b[0])-A[1][0]/(np.dot(A[1], x)-b[1])-A[2][0]/(np.dot(A[2], x)-b[2]),\n",
      "\u001b[0;31mTypeError\u001b[0m: only size-1 arrays can be converted to Python scalars"
     ]
    }
   ],
   "source": [
    "#(d)\n",
    "x_0 = np.array([0, 0])\n",
    "f, g, H = my_objective(x, A, b, c)\n",
    "\n",
    "newton_step = -np.dot(np.linalg.inv(H), g)\n",
    "print(newton_step)"
   ]
  },
  {
   "cell_type": "code",
   "execution_count": 7,
   "metadata": {},
   "outputs": [
    {
     "name": "stdout",
     "output_type": "stream",
     "text": [
      "Iteration = 1 ,f = 3.7297014486341915\n",
      "Iteration = 1 ,decrement = 1.199587095747152\n",
      "Iteration = 1 ,t = 1\n",
      "----------------------------------------\n",
      "Iteration = 2 ,f = 2.7984780333725174\n",
      "Iteration = 2 ,decrement = 0.711352504574145\n",
      "Iteration = 2 ,t = 1\n",
      "----------------------------------------\n",
      "Iteration = 3 ,f = 2.532732525397814\n",
      "Iteration = 3 ,decrement = 0.19388436279863158\n",
      "Iteration = 3 ,t = 1\n",
      "----------------------------------------\n",
      "Iteration = 4 ,f = 2.5141806919755845\n",
      "Iteration = 4 ,decrement = 0.01321841767055216\n",
      "Iteration = 4 ,t = 1\n",
      "----------------------------------------\n",
      "Iteration = 5 ,f = 2.5140936827970943\n",
      "Iteration = 5 ,decrement = 9.494026722299103e-05\n",
      "Iteration = 5 ,t = 1\n",
      "----------------------------------------\n",
      "stop at iteration = 6\n",
      "Iteration = 6 ,f = 2.514093678290154\n",
      "Iteration = 6 ,decrement = 4.65940802675436e-09\n",
      "[-0.23772562 -0.07652448] 2.514093678290154\n"
     ]
    }
   ],
   "source": [
    "#(d)~(j)\n",
    "def newton_method(x, A, b, c):\n",
    "    t = 1\n",
    "    alpha = 0.1\n",
    "    beta = 0.7\n",
    "    iter_count = 0\n",
    "    \n",
    "    while(True):\n",
    "        f, g, H = my_objective(x, A, b, c)\n",
    "        newton_step = -np.dot(np.linalg.inv(H), g)\n",
    "        newton_decrement = np.sqrt(-np.dot(g, newton_step))\n",
    "        \n",
    "        #stopping criteria\n",
    "        if((np.square(newton_decrement)/2) <= 1e-10):\n",
    "            print(\"stop at iteration =\", iter_count+1)\n",
    "            print(\"Iteration =\", iter_count+1, \",f =\", f)\n",
    "            print(\"Iteration =\", iter_count+1, \",decrement =\", newton_decrement)\n",
    "            return x\n",
    "        \n",
    "        print(\"Iteration =\", iter_count+1, \",f =\", f)\n",
    "        print(\"Iteration =\", iter_count+1, \",decrement =\", newton_decrement)\n",
    "        \n",
    "        #backtracking line search to choose t\n",
    "        x_next = x + t * newton_step\n",
    "        \n",
    "        #check dom f\n",
    "        while((-np.dot(A[0], x_next)+b[0]<0) or (-np.dot(A[1], x_next)+b[1]<0) or (-np.dot(A[2], x_next)+b[2]<0)):\n",
    "            t = beta * t\n",
    "            x_next = x + t * newton_step\n",
    "            print(\"Out of dom f!\")\n",
    "            \n",
    "        print(\"Iteration =\", iter_count+1, \",t =\", t)\n",
    "        print(\"----------------------------------------\")\n",
    "        \n",
    "        f_next = np.dot(c, x_next)-math.log(-np.dot(A[0], x_next)+b[0])-math.log(-np.dot(A[1], x_next)+b[1])-math.log(-np.dot(A[2], x_next)+b[2])\n",
    "        while(f_next > (f - alpha * t * np.square(newton_decrement))):\n",
    "            t = beta * t\n",
    "            x_next = x + t * newton_step\n",
    "            f_next = np.dot(c, x_next)-math.log(-np.dot(A[0], x_next)+b[0])-math.log(-np.dot(A[1], x_next)+b[1])-math.log(-np.dot(A[2], x_next)+b[2])\n",
    "        \n",
    "        x = x + t * newton_step\n",
    "        iter_count =  iter_count + 1\n",
    "    \n",
    "def main():\n",
    "    A = np.array([[1,3], [2,-3], [-1,0]])\n",
    "    c = np.array([1, 1])\n",
    "    b = np.array([0.2, 0.3, 0.4])\n",
    "    x_0 = np.array([0, 0])\n",
    "    \n",
    "    x_sol = newton_method(x_0, A, b, c)\n",
    "    f_sol = np.dot(c, x_sol)-math.log(-np.dot(A[0], x_sol)+b[0])-math.log(-np.dot(A[1], x_sol)+b[1])-math.log(-np.dot(A[2], x_sol)+b[2])\n",
    "    print(x_sol, f_sol)\n",
    "\n",
    "if __name__ == '__main__':\n",
    "    main()"
   ]
  },
  {
   "cell_type": "code",
   "execution_count": 3,
   "metadata": {},
   "outputs": [
    {
     "name": "stdout",
     "output_type": "stream",
     "text": [
      "status: optimal\n",
      "optimal value 2.514093678290156\n",
      "optimal var [-0.23772563 -0.07652448]\n"
     ]
    }
   ],
   "source": [
    "import cvxpy as cp\n",
    "import cvxpy\n",
    "\n",
    "# Create two scalar optimization variables.\n",
    "x = cp.Variable(2)\n",
    "\n",
    "A = np.array([[1,3], [2,-3], [-1,0]])\n",
    "c = np.array([1, 1]).reshape(2, 1)\n",
    "b = np.array([0.2, 0.3, 0.4])\n",
    "\n",
    "# Form objective.\n",
    "obj = cp.Minimize(c.transpose()@x - cp.sum(cp.log((-A@x)+b)))\n",
    "\n",
    "#obj = cp.Minimize(c.transpose()@x-cp.log((A[0].transpose()@x)+b[0])-cp.log((A[1].transpose()@x)+b[1])\n",
    "                  #-cp.log((A[2].transpose()@x)+b[2]))\n",
    "\n",
    "# Form and solve problem.\n",
    "prob = cp.Problem(obj)\n",
    "prob.solve()  # Returns the optimal value.\n",
    "print(\"status:\", prob.status)\n",
    "print(\"optimal value\", prob.value)\n",
    "print(\"optimal var\", x.value)"
   ]
  },
  {
   "cell_type": "code",
   "execution_count": null,
   "metadata": {},
   "outputs": [],
   "source": []
  }
 ],
 "metadata": {
  "kernelspec": {
   "display_name": "Python 3",
   "language": "python",
   "name": "python3"
  },
  "language_info": {
   "codemirror_mode": {
    "name": "ipython",
    "version": 3
   },
   "file_extension": ".py",
   "mimetype": "text/x-python",
   "name": "python",
   "nbconvert_exporter": "python",
   "pygments_lexer": "ipython3",
   "version": "3.7.6"
  }
 },
 "nbformat": 4,
 "nbformat_minor": 4
}
